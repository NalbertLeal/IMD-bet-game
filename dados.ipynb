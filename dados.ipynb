{
 "cells": [
  {
   "cell_type": "markdown",
   "metadata": {},
   "source": [
    "### Activity bet dice:"
   ]
  },
  {
   "cell_type": "markdown",
   "metadata": {},
   "source": [
    "In the IMD bet game, your next move depends on the number of eyes you throw with the dice.\n",
    "\n",
    "Input:\n",
    "- Floor \"f\", where step = max(0,f)\n",
    "- Epoch = 100\n",
    "- Seed\n",
    "- Number of rounds = 500\n",
    "\n",
    "###### Rules:\n",
    "- For each rounds:\n",
    "    - For each epoch(roll):\n",
    "        - Roll the dice\n",
    "            - Determine the next step\n",
    "            - Case 1,2: decrease step by one\n",
    "            - Case 3,4,5: increase step by one\n",
    "            - Case 6:\n",
    "                - Roll the dice\n",
    "                - Move according to result of dice\n",
    "            - There is a 0,1% probability that\n",
    "            assign the step to 0 (zero) in each\n",
    "            step.\n",
    "            - Store the current step\n",
    "    Round[i] = steps\n",
    "    \n",
    "\n",
    "-Deadline 20/03/2017\n",
    "- Grade: 5% Unit 1\n",
    "- Must contain: \n",
    "    - Notebook (source in Python)\n",
    "    - Source code must be available at Github (or similar). Submit the link too"
   ]
  },
  {
   "cell_type": "code",
   "execution_count": null,
   "metadata": {
    "collapsed": false
   },
   "outputs": [],
   "source": [
    "import numpy as np\n",
    "from random import randint\n",
    "\n",
    "np_rounds = np.zeros(shape=(500, 100))\n",
    "\n",
    "default_level_start = 0\n",
    "\n",
    "for rounds in range(0, 500):\n",
    "    a_row = np.zeros(shape=(100))\n",
    "    level = default_level_start  # define the level now for this play\n",
    "    for play in range(0, 100):\n",
    "        dice_100_faces = randint(1, 100)\n",
    "        if dice_100_faces == 1:\n",
    "            level = 0\n",
    "            continue\n",
    "        else:\n",
    "            dice_6_faces = randint(1, 6)\n",
    "            if dice_6_faces in [1, 2]:\n",
    "                level -= 1\n",
    "            elif dice_6_faces in [3, 4, 5]:\n",
    "                level += 1\n",
    "            else:\n",
    "                while dice_6_faces == 6:\n",
    "                    dice_6_faces = randint(1, 6)\n",
    "                    if dice_6_faces in [1, 2]:\n",
    "                        level -= 1\n",
    "                    elif dice_6_faces in [3, 4, 5]:\n",
    "                        level += 1\n",
    "        if level < 0:\n",
    "            level = 0\n",
    "        a_row[play] = level\n",
    "    np_rounds[rounds] = a_row\n",
    "    \n",
    "for rounds in range(0, 500):\n",
    "    #for row in range(0, 100):\n",
    "        print(np_rounds[rounds])"
   ]
  },
  {
   "cell_type": "markdown",
   "metadata": {
    "collapsed": true
   },
   "source": [
    "**Now this is the function that receive the inputs:**"
   ]
  },
  {
   "cell_type": "code",
   "execution_count": null,
   "metadata": {
    "collapsed": false
   },
   "outputs": [],
   "source": [
    "import numpy as np\n",
    "from random import randint\n",
    "\n",
    "def imdBetGame(floor = 1, epoch = 100, seed = 123456789, numberOfRounds = 500):\n",
    "    \n",
    "    np_rounds = np.zeros(shape=(numberOfRounds, 100))\n",
    "\n",
    "    default_level_start = 0\n",
    "\n",
    "    for rounds in range(0, numberOfRounds):\n",
    "        a_row = np.zeros(shape=(epoch))\n",
    "        level = default_level_start  # define the level now for this play\n",
    "        for play in range(0, epoch):\n",
    "            dice_100_faces = randint(1, 100)\n",
    "            if dice_100_faces == floor:\n",
    "                level = 0\n",
    "                continue\n",
    "            else:\n",
    "                dice_6_faces = randint(1, 6)\n",
    "                if dice_6_faces in [1, 2]:\n",
    "                    level -= 1\n",
    "                elif dice_6_faces in [3, 4, 5]:\n",
    "                    level += 1\n",
    "                else:\n",
    "                    while dice_6_faces == 6:\n",
    "                        dice_6_faces = randint(1, 6)\n",
    "                        if dice_6_faces in [1, 2]:\n",
    "                            level -= 1\n",
    "                        elif dice_6_faces in [3, 4, 5]:\n",
    "                            level += 1\n",
    "            if level < 0:\n",
    "                level = 0\n",
    "            a_row[play] = level\n",
    "        np_rounds[rounds] = a_row\n",
    "        \n",
    "        for rounds in range(0, 500):\n",
    "            #for row in range(0, 100):\n",
    "            print(np_rounds[rounds])\n",
    "            \n",
    "imdBetGame(floor = 1, epoch = 100, seed = 123456789, numberOfRounds = 500)"
   ]
  },
  {
   "cell_type": "code",
   "execution_count": null,
   "metadata": {
    "collapsed": true
   },
   "outputs": [],
   "source": []
  }
 ],
 "metadata": {
  "kernelspec": {
   "display_name": "Python 3",
   "language": "python",
   "name": "python3"
  },
  "language_info": {
   "codemirror_mode": {
    "name": "ipython",
    "version": 3
   },
   "file_extension": ".py",
   "mimetype": "text/x-python",
   "name": "python",
   "nbconvert_exporter": "python",
   "pygments_lexer": "ipython3",
   "version": "3.6.0"
  }
 },
 "nbformat": 4,
 "nbformat_minor": 2
}
